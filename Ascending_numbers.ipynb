{
  "nbformat": 4,
  "nbformat_minor": 0,
  "metadata": {
    "colab": {
      "provenance": [],
      "authorship_tag": "ABX9TyO0+orccZsEvUgzEtxzKOUz",
      "include_colab_link": true
    },
    "kernelspec": {
      "name": "python3",
      "display_name": "Python 3"
    },
    "language_info": {
      "name": "python"
    }
  },
  "cells": [
    {
      "cell_type": "markdown",
      "metadata": {
        "id": "view-in-github",
        "colab_type": "text"
      },
      "source": [
        "<a href=\"https://colab.research.google.com/github/sharmila-Nri/Python-mini-project-/blob/main/Ascending_numbers.ipynb\" target=\"_parent\"><img src=\"https://colab.research.google.com/assets/colab-badge.svg\" alt=\"Open In Colab\"/></a>"
      ]
    },
    {
      "cell_type": "code",
      "execution_count": null,
      "metadata": {
        "colab": {
          "base_uri": "https://localhost:8080/"
        },
        "id": "R-IKCHAMEyEn",
        "outputId": "8030262d-c226-43cf-9ca2-ef0e5f62c06b"
      },
      "outputs": [
        {
          "output_type": "stream",
          "name": "stdout",
          "text": [
            "list1: [1, 5, 3, 4]\n",
            " list2: [1, 3, 4, 5]\n"
          ]
        }
      ],
      "source": [
        "def ascending_order():\n",
        "    number=[1,5,3,4]\n",
        "    print(\"list1:\",number)\n",
        "    number.sort()\n",
        "    print(\" list2:\",number)\n",
        "ascending_order()"
      ]
    }
  ]
}