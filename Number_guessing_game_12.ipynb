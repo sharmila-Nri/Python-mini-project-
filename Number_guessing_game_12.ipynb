{
  "nbformat": 4,
  "nbformat_minor": 0,
  "metadata": {
    "colab": {
      "provenance": [],
      "authorship_tag": "ABX9TyPOCYZJdz1bruNNYTEV2qFV",
      "include_colab_link": true
    },
    "kernelspec": {
      "name": "python3",
      "display_name": "Python 3"
    },
    "language_info": {
      "name": "python"
    }
  },
  "cells": [
    {
      "cell_type": "markdown",
      "metadata": {
        "id": "view-in-github",
        "colab_type": "text"
      },
      "source": [
        "<a href=\"https://colab.research.google.com/github/sharmila-Nri/Python-mini-project-/blob/main/Number_guessing_game_12.ipynb\" target=\"_parent\"><img src=\"https://colab.research.google.com/assets/colab-badge.svg\" alt=\"Open In Colab\"/></a>"
      ]
    },
    {
      "cell_type": "code",
      "execution_count": null,
      "metadata": {
        "colab": {
          "base_uri": "https://localhost:8080/"
        },
        "id": "UeFepiHpDPiO",
        "outputId": "a47c5d35-0c29-41cd-cf8d-515650a64a56"
      },
      "outputs": [
        {
          "output_type": "stream",
          "name": "stdout",
          "text": [
            " hi,welcome to number guessing game\n",
            "I am using 1to20 number can I guess?\n",
            " enter guess1\n",
            "your guess is wrong\n",
            " enter guess2\n",
            "your guess is wrong\n",
            " enter guess6\n",
            "your guess is wrong\n",
            " enter guess4\n",
            "your guess is right\n"
          ]
        }
      ],
      "source": [
        "\n",
        "import random\n",
        "print(\" hi,welcome to number guessing game\")\n",
        "print(\"I am using 1to20 number can I guess?\")\n",
        "# generate a randam number between 1 to 20\n",
        "readnumber=random.randint(1,20)\n",
        "#initialization variable\n",
        "value=True\n",
        "while value:\n",
        "    userinput=int(input(\" enter guess\"))\n",
        "    if(userinput==readnumber):\n",
        "        print(\"your guess is right\")\n",
        "        value=False\n",
        "    else:\n",
        "        print(\"your guess is wrong\")"
      ]
    }
  ]
}