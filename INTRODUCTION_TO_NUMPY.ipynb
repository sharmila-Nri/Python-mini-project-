{
  "nbformat": 4,
  "nbformat_minor": 0,
  "metadata": {
    "colab": {
      "provenance": [],
      "authorship_tag": "ABX9TyNwpVSIY1/gmroI76MByJsB",
      "include_colab_link": true
    },
    "kernelspec": {
      "name": "python3",
      "display_name": "Python 3"
    },
    "language_info": {
      "name": "python"
    }
  },
  "cells": [
    {
      "cell_type": "markdown",
      "metadata": {
        "id": "view-in-github",
        "colab_type": "text"
      },
      "source": [
        "<a href=\"https://colab.research.google.com/github/sharmila-Nri/Python-mini-project-/blob/main/INTRODUCTION_TO_NUMPY.ipynb\" target=\"_parent\"><img src=\"https://colab.research.google.com/assets/colab-badge.svg\" alt=\"Open In Colab\"/></a>"
      ]
    },
    {
      "cell_type": "code",
      "execution_count": null,
      "metadata": {
        "id": "RGjuQ_aotLoV"
      },
      "outputs": [],
      "source": [
        "#Nump-Numatic python\n",
        "#Most powerful package-Libarary\n",
        "\n",
        "#Numpy-Dimensions\n",
        "\n",
        "#A- One Dimensional Array\n",
        "#[A,B]|| [A\n",
        "#.        B]-Two Dimensional Array-Row||colum\n",
        "# Three Dimensional\n",
        "#Array- Storing,Manipulating,similar Data type\n",
        "#Faster than any mathematical functions\n",
        "#convinient compared to other packages\n",
        "#Memory efficiency\n",
        "#support multi dimensional arras\n",
        "\n",
        "#speed(Numpy operations)>speed(Lists operations)\n",
        "#size(Numpy operations)<size(Lists operations)\n",
        "#Memory Optimization (Numpy)>Memory Optimization (List operations)"
      ]
    },
    {
      "cell_type": "code",
      "source": [
        "#Install numpy-pip3 install numpy||pip install numpy"
      ],
      "metadata": {
        "id": "78Y5JIUQv9Jb"
      },
      "execution_count": null,
      "outputs": []
    },
    {
      "cell_type": "code",
      "source": [
        "#create a numpy array\n",
        "#1D array\n",
        "\n",
        "arr1D=np.array([1,2,3,4,5])\n",
        "print(arr1D)"
      ],
      "metadata": {
        "colab": {
          "base_uri": "https://localhost:8080/"
        },
        "id": "47-HRycwwR9c",
        "outputId": "74103a32-06d8-452c-e6b3-1c7828be0704"
      },
      "execution_count": null,
      "outputs": [
        {
          "output_type": "stream",
          "name": "stdout",
          "text": [
            "[1 2 3 4 5]\n"
          ]
        }
      ]
    },
    {
      "cell_type": "code",
      "source": [
        "import numpy as np"
      ],
      "metadata": {
        "id": "fXytepJawO4Q"
      },
      "execution_count": null,
      "outputs": []
    },
    {
      "cell_type": "markdown",
      "source": [],
      "metadata": {
        "id": "FmwN_hbJ7uiH"
      }
    },
    {
      "cell_type": "code",
      "source": [
        "#creating 2D array-Matrix\n",
        "arr2D=np.array([\n",
        "     [0,0,0],[0,0,0]\n",
        "])\n",
        "print(arr2D)"
      ],
      "metadata": {
        "colab": {
          "base_uri": "https://localhost:8080/"
        },
        "id": "Pw2CeFP3wvuQ",
        "outputId": "28914094-a11a-4d2b-bb85-7a7f3d2d648d"
      },
      "execution_count": null,
      "outputs": [
        {
          "output_type": "stream",
          "name": "stdout",
          "text": [
            "[[0 0 0]\n",
            " [0 0 0]]\n"
          ]
        }
      ]
    },
    {
      "cell_type": "code",
      "source": [
        "#creating arrays with default values\n",
        "\n",
        "allzeros=np.zeros((2,3))\n",
        "print(allzeros)"
      ],
      "metadata": {
        "colab": {
          "base_uri": "https://localhost:8080/"
        },
        "id": "LEXC0tJ6zNhF",
        "outputId": "7e9d44ff-b957-48c5-a06c-ff6672ae274d"
      },
      "execution_count": null,
      "outputs": [
        {
          "output_type": "stream",
          "name": "stdout",
          "text": [
            "[[0. 0. 0.]\n",
            " [0. 0. 0.]]\n"
          ]
        }
      ]
    },
    {
      "cell_type": "code",
      "source": [
        "#creating matrix with all values of elements as '1'\n",
        "allOnes=np.ones((2,3))\n",
        "print(allOnes)"
      ],
      "metadata": {
        "colab": {
          "base_uri": "https://localhost:8080/"
        },
        "id": "wBD8LRPBzmGn",
        "outputId": "97c4f457-0039-4274-e695-8d6b0b96b57b"
      },
      "execution_count": null,
      "outputs": [
        {
          "output_type": "stream",
          "name": "stdout",
          "text": [
            "[[1. 1. 1.]\n",
            " [1. 1. 1.]]\n"
          ]
        }
      ]
    },
    {
      "cell_type": "code",
      "source": [
        "#creating matrix with all values of elements as 'constants values-n~Fill values'\n",
        "allconstant=np.full((2,3),6)\n",
        "print(allconstant)"
      ],
      "metadata": {
        "colab": {
          "base_uri": "https://localhost:8080/"
        },
        "id": "OzlgGp85z9Xy",
        "outputId": "2438c778-f41c-48f5-9b67-abae27323ec7"
      },
      "execution_count": null,
      "outputs": [
        {
          "output_type": "stream",
          "name": "stdout",
          "text": [
            "[[6 6 6]\n",
            " [6 6 6]]\n"
          ]
        }
      ]
    },
    {
      "cell_type": "code",
      "source": [
        "#create an identity matrix -I-squre matrix\n",
        "\n",
        "identity =np.eye(4)\n",
        "print(identity)"
      ],
      "metadata": {
        "colab": {
          "base_uri": "https://localhost:8080/"
        },
        "id": "McJ-eF8h0lFZ",
        "outputId": "82824af8-6783-429e-c9d7-3e20296443d9"
      },
      "execution_count": null,
      "outputs": [
        {
          "output_type": "stream",
          "name": "stdout",
          "text": [
            "[[1. 0. 0. 0.]\n",
            " [0. 1. 0. 0.]\n",
            " [0. 0. 1. 0.]\n",
            " [0. 0. 0. 1.]]\n"
          ]
        }
      ]
    },
    {
      "cell_type": "code",
      "source": [
        "#Identity Matrix - Aii= 1 && Aij=0\n",
        "#For all A Belongs to R MxN\n",
        "#Aij-"
      ],
      "metadata": {
        "id": "-twKOvZP00fu"
      },
      "execution_count": null,
      "outputs": []
    },
    {
      "cell_type": "code",
      "source": [
        "#create a random Matrices\n",
        "\n",
        "#with 0 and 1\n",
        "rand1=np.random.rand(3,3)\n",
        "print(rand1)\n",
        "\n",
        "# between a and b\n",
        "rand2=np.random.randint(10,20,(3,3))\n",
        "print(rand2)"
      ],
      "metadata": {
        "colab": {
          "base_uri": "https://localhost:8080/"
        },
        "id": "VLEKvpCM3j8A",
        "outputId": "99a45999-d2bd-4435-ee42-76bcf3e8ec3c"
      },
      "execution_count": null,
      "outputs": [
        {
          "output_type": "stream",
          "name": "stdout",
          "text": [
            "[[0.10851288 0.15615662 0.46461091]\n",
            " [0.61153047 0.67144852 0.30860833]\n",
            " [0.32380227 0.73174719 0.04966087]]\n",
            "[[13 12 19]\n",
            " [19 13 18]\n",
            " [10 11 10]]\n"
          ]
        }
      ]
    },
    {
      "cell_type": "code",
      "source": [
        "#Array properties\n",
        "arr=np.array([ [1,2,3,4],[2,3,4,5]])\n",
        "print(arr)\n",
        "\n",
        "# shape or array\n",
        "print(f'\\ n The shape of the array is ({arr.shape}')\n",
        "#size of array\n",
        "print(f'The size of the array is ({arr.size}')\n",
        "\n",
        "#Datatype\n",
        "print(f'The Data type of the array is { arr.dtype}')\n",
        "#Dimentions of array\n",
        "print(f'post The Dimension of the array is ({arr.ndim}')"
      ],
      "metadata": {
        "colab": {
          "base_uri": "https://localhost:8080/"
        },
        "id": "mRNKnp_H4mGs",
        "outputId": "ab85baec-6250-4265-9e3a-92ef124b286f"
      },
      "execution_count": null,
      "outputs": [
        {
          "output_type": "stream",
          "name": "stdout",
          "text": [
            "[[1 2 3 4]\n",
            " [2 3 4 5]]\n",
            "\\ n The shape of the array is ((2, 4)\n",
            "The size of the array is (8\n",
            "The Data type of the array is int64\n",
            "post The Dimension of the array is (2\n"
          ]
        }
      ]
    },
    {
      "cell_type": "code",
      "source": [
        "#Indexing and slicing\n",
        "\n",
        "#Access the elements in 1D Array\n",
        "\n",
        "arr=np. array([1,2,3,4])\n",
        "print(arr)\n",
        "print(arr[3])\n",
        "\n",
        "#slicing the elements\n",
        "print(arr[0:3])\n",
        "\n",
        "#Access the element in 2D array\n",
        "arr2=np.array([[1,2,3],[2,3,4]])\n",
        "print(arr2)\n",
        "print(arr2[1,1])\n",
        "print(arr2[0,:])#frist row with  all columns\n",
        "print(arr2[:,0])#frist column with all tows"
      ],
      "metadata": {
        "colab": {
          "base_uri": "https://localhost:8080/"
        },
        "id": "AVlEqkSQ7yil",
        "outputId": "3b80aba3-5ca7-4ee5-dea4-562bf9ec53ab"
      },
      "execution_count": null,
      "outputs": [
        {
          "output_type": "stream",
          "name": "stdout",
          "text": [
            "[1 2 3 4]\n",
            "4\n",
            "[1 2 3]\n",
            "[[1 2 3]\n",
            " [2 3 4]]\n",
            "3\n",
            "[1 2 3]\n",
            "[1 2]\n"
          ]
        }
      ]
    },
    {
      "cell_type": "code",
      "source": [],
      "metadata": {
        "id": "DMTIXbSTEQ2O"
      },
      "execution_count": null,
      "outputs": []
    },
    {
      "cell_type": "code",
      "source": [
        "#l1=[]\n",
        "# [l1.append(_) for_in range(10)]\n",
        "\n",
        "l1=np.arange(10,-10,-1)\n",
        "\n",
        "print(l1)"
      ],
      "metadata": {
        "colab": {
          "base_uri": "https://localhost:8080/"
        },
        "id": "6gEfI7aEAwn0",
        "outputId": "e004fbc1-bce3-4082-a043-80b89089d574"
      },
      "execution_count": null,
      "outputs": [
        {
          "output_type": "stream",
          "name": "stdout",
          "text": [
            "[10  9  8  7  6  5  4  3  2  1  0 -1 -2 -3 -4 -5 -6 -7 -8 -9]\n"
          ]
        }
      ]
    },
    {
      "cell_type": "code",
      "source": [
        "#Mathematical operations\n",
        "\n",
        "a=np.array([1,2,3])\n",
        "b=np.array([3,4,5])\n",
        "\n",
        "print(f'The sum of a and b is {a+b}')\n",
        "print(f'The diff of a and b is {a-b}')\n",
        "print(f'The product of a and b is {a*b}')\n",
        "print(f'The division of a and b is {a/b}')"
      ],
      "metadata": {
        "colab": {
          "base_uri": "https://localhost:8080/"
        },
        "id": "hK2CfnU7BZwB",
        "outputId": "5c578536-bae8-4554-ba52-99f8849c6dc4"
      },
      "execution_count": null,
      "outputs": [
        {
          "output_type": "stream",
          "name": "stdout",
          "text": [
            "The sum of a and b is [4 6 8]\n",
            "The diff of a and b is [-2 -2 -2]\n",
            "The product of a and b is [ 3  8 15]\n",
            "The division of a and b is [0.33333333 0.5        0.6       ]\n"
          ]
        }
      ]
    },
    {
      "cell_type": "code",
      "source": [
        "#Matrix multiplication\n",
        "b1=np.array([[1,2,3],[2,3,4]])\n",
        "b2=np.array([[5,6],[7,8],[1,3]])\n",
        "\n",
        "#Dot product   ___ product=AB __ A m × n __ B n × p\n",
        "C=np.dot(b1,b2)\n",
        "print(C)"
      ],
      "metadata": {
        "colab": {
          "base_uri": "https://localhost:8080/"
        },
        "id": "FU2A8S1CC58R",
        "outputId": "338a4bb7-c348-4fb5-db3b-edef233b5fa6"
      },
      "execution_count": null,
      "outputs": [
        {
          "output_type": "stream",
          "name": "stdout",
          "text": [
            "[[22 31]\n",
            " [35 48]]\n"
          ]
        }
      ]
    },
    {
      "cell_type": "code",
      "source": [
        "print(b1)"
      ],
      "metadata": {
        "colab": {
          "base_uri": "https://localhost:8080/"
        },
        "id": "DD3W2jFWEmS2",
        "outputId": "2c5c9723-1a70-4c0f-dacd-950868099837"
      },
      "execution_count": null,
      "outputs": [
        {
          "output_type": "stream",
          "name": "stdout",
          "text": [
            "[[1 2 3]\n",
            " [2 3 4]]\n"
          ]
        }
      ]
    },
    {
      "cell_type": "code",
      "source": [
        "print(b2)"
      ],
      "metadata": {
        "colab": {
          "base_uri": "https://localhost:8080/"
        },
        "id": "_R15VPh1EqgF",
        "outputId": "f663f2f1-44fd-4fd8-d181-c5a7b76452bb"
      },
      "execution_count": null,
      "outputs": [
        {
          "output_type": "stream",
          "name": "stdout",
          "text": [
            "[[5 6]\n",
            " [7 8]\n",
            " [1 3]]\n"
          ]
        }
      ]
    },
    {
      "cell_type": "code",
      "source": [
        "[\n",
        "  [22,31],\n",
        "  [35,48]\n",
        "]"
      ],
      "metadata": {
        "colab": {
          "base_uri": "https://localhost:8080/"
        },
        "id": "lsZzKatsE0TU",
        "outputId": "340c55be-db9b-4378-a787-51fbe506e253"
      },
      "execution_count": null,
      "outputs": [
        {
          "output_type": "execute_result",
          "data": {
            "text/plain": [
              "[[22, 31], [35, 48]]"
            ]
          },
          "metadata": {},
          "execution_count": 53
        }
      ]
    }
  ]
}